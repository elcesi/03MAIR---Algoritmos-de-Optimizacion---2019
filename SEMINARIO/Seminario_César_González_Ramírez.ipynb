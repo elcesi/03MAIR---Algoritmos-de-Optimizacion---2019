{
  "nbformat": 4,
  "nbformat_minor": 0,
  "metadata": {
    "colab": {
      "name": "Seminario_César_González_Ramírez.ipynb",
      "version": "0.3.2",
      "provenance": [],
      "collapsed_sections": [],
      "include_colab_link": true
    },
    "kernelspec": {
      "name": "python3",
      "display_name": "Python 3"
    }
  },
  "cells": [
    {
      "cell_type": "markdown",
      "metadata": {
        "id": "view-in-github",
        "colab_type": "text"
      },
      "source": [
        "<a href=\"https://colab.research.google.com/github/elcesi/03MAIR---Algoritmos-de-Optimizacion---2019/blob/master/SEMINARIO/Seminario_C%C3%A9sar_Gonz%C3%A1lez_Ram%C3%ADrez.ipynb\" target=\"_parent\"><img src=\"https://colab.research.google.com/assets/colab-badge.svg\" alt=\"Open In Colab\"/></a>"
      ]
    },
    {
      "metadata": {
        "id": "z20sGCr4JQD7",
        "colab_type": "text"
      },
      "cell_type": "markdown",
      "source": [
        "Nombre y Apellidos:  César González Ramírez<br>\n",
        "Url: https://github.com/elcesi/03MAIR---Algoritmos-de-Optimizacion---2019/blob/master/SEMINARIO/Seminario_César_González_Ram%C3%ADrez.ipynb<br>\n",
        "Problema:<br>Combinar cifras y operaciones<br>\n",
        "Descripción del problema:<br>\n",
        "El problema consiste en analizar el siguiente problema y diseñar un algoritmo que lo resuelva.\n",
        "Disponemos de las 9 cifras del 1 al 9 (excluimos el cero) y de los 4 signos básicos de las\n",
        "operaciones fundamentales: suma(+), resta(-), multiplicación(*) y división(/).\n",
        "Debemos combinarlos alternativamente sin repetir ninguno de ellos para obtener una\n",
        "cantidad dada. Debe analizarse el problema para encontrar todos los valores enteros posibles planteando las\n",
        "siguientes cuestiones:\n",
        "- ¿Qué valor máximo y mínimo a priori se pueden obtener según las condiciones?\n",
        "- ¿Es posible encontrar todos los valores enteros posibles entre dicho mínimo y máximo ?<br>\n",
        "<br>\n",
        "<br>\n",
        "(*) La respuesta es obligatoria<br>"
      ]
    },
    {
      "metadata": {
        "id": "8Ab2cPT6J3tO",
        "colab_type": "text"
      },
      "cell_type": "markdown",
      "source": [
        "###(*)¿Cuantas posibilidades hay sin tener en cuenta las restricciones?<br>\n",
        "###Respuesta<br>"
      ]
    },
    {
      "metadata": {
        "id": "5UgXIp_eMD0Q",
        "colab_type": "text"
      },
      "cell_type": "markdown",
      "source": [
        "El problema que se plantea es un problema de combinatoria.  Si no tenemos en cuenta las restricciones tendríamos nueve  elementos a variar de cinco en cinco pudiendose repetir y combinar con cuatro signos que también se puede repetir, por lo tanto serían variaciones de 9 elementos de 5 en 5 por variaciones de 4 elementos de 4 en 4, es decir, 15.116.544 posibilidades."
      ]
    },
    {
      "metadata": {
        "id": "UCiZlRzzLxQ-",
        "colab_type": "text"
      },
      "cell_type": "markdown",
      "source": [
        "###¿Cuantas posibilidades hay teniendo en cuenta todas las restricciones?<br>\n",
        "###Respuesta<br>"
      ]
    },
    {
      "metadata": {
        "id": "c2lTnN-6JwId",
        "colab_type": "text"
      },
      "cell_type": "markdown",
      "source": [
        "Si no tenemos en cuenta las restricciones tenemos nueve números que variar de cinco en cinco sin repeticiones que hay que combinar con cuatro signos, es decir, variaciones de nueve elementos de cinco en cinco por permutaciones de cuatro elementos. esto hace un total de 362.880 posibilidades , de lo cuales 90.000 son enteros."
      ]
    },
    {
      "metadata": {
        "id": "P_ZZ8NNGKGE1",
        "colab_type": "text"
      },
      "cell_type": "markdown",
      "source": [
        "###Modelo para el espacio de soluciones<br>\n",
        "###(*) ¿Cual es la estructura de datos que mejor se adapta al problema? Argumentalo.(Es posible que hayas elegido una al principio y<br>\n",
        "###veas la necesidad de cambiar, arguentalo)<br>\n",
        "###Respuesta"
      ]
    },
    {
      "metadata": {
        "id": "0JENZCFHjUER",
        "colab_type": "text"
      },
      "cell_type": "markdown",
      "source": [
        "La estructura de datos es mediante la construcción una tupla de cinco cifras alternando signos de operacionnes básicas. Desde el principio del problema no he considerado otra posibilidad de estructura de datos debido a las características del mismo, se hace evidente desde el inicio. Entiendo que también puede resolverse mediante una estructura de arbol."
      ]
    },
    {
      "metadata": {
        "id": "AVCt2XQMKa9X",
        "colab_type": "text"
      },
      "cell_type": "markdown",
      "source": [
        "###Según el modelo para el espacio de soluciones<br>\n",
        "###(*) ¿Cual es la función objetivo?<br>\n",
        "###Respuesta<br>"
      ]
    },
    {
      "metadata": {
        "id": "bHJ2054fc3_V",
        "colab_type": "text"
      },
      "cell_type": "markdown",
      "source": [
        "En este algoritmo no estamos ante un problema de optimización. El objetivo es encontrar una función que nos acerque a la solución perseguida, es decir, cómo de lejos o cerca estamos de encontrar cual es el valor máximo y mínimo entre las posibles soluciones."
      ]
    },
    {
      "metadata": {
        "id": "GsFMULeqcu6K",
        "colab_type": "text"
      },
      "cell_type": "markdown",
      "source": [
        "###(*) ¿Es un problema de maximización o minimización?<br>\n",
        "###Respuesta"
      ]
    },
    {
      "metadata": {
        "id": "6Fv9i4R6ilF_",
        "colab_type": "text"
      },
      "cell_type": "markdown",
      "source": [
        "No se trata no de un problema de maximización ni minimanización si no de busqueda."
      ]
    },
    {
      "metadata": {
        "id": "-YGAAfeTK_ne",
        "colab_type": "text"
      },
      "cell_type": "markdown",
      "source": [
        "###Diseña un algoritmo para resolver el problema por fuerza bruta<br>\n",
        "###Respuesta<br>"
      ]
    },
    {
      "metadata": {
        "id": "esdNiwsQOt_P",
        "colab_type": "text"
      },
      "cell_type": "markdown",
      "source": [
        "En primer lugar pongo el algoritmo por fuerza bruta sin las restricciones del problema."
      ]
    },
    {
      "metadata": {
        "id": "p-PPSYelLEmQ",
        "colab_type": "code",
        "outputId": "01c98a3d-207a-4424-cfdc-15af9b98266a",
        "colab": {
          "base_uri": "https://localhost:8080/",
          "height": 102
        }
      },
      "cell_type": "code",
      "source": [
        "########################## ALGORITMO FUERZA BRUTA SIN RESTRICCIONES ###############################\n",
        "\n",
        "#Definimos esta función para comprobar si una variable es un numero entero\n",
        "\n",
        "def is_int(val):\n",
        "    if type(val) == int:\n",
        "        return True\n",
        "    else:\n",
        "        if val.is_integer():\n",
        "            return True\n",
        "        else:\n",
        "            return False\n",
        "\n",
        "\n",
        "#Importamos las librerias para iterar con strings y para aplicar expresiones regulares\n",
        "import itertools\n",
        "import re\n",
        "\n",
        "\n",
        "# Guardamos las operaciones y los numeros que podemos utilizar y les hacemos una copia para cada bucle\n",
        "numeros = ['1', '2', '3', '4', '5', '6' , '7' , '8', '9']\n",
        "operaciones = ['+','-','*','/']\n",
        "\n",
        "\n",
        "\n",
        "#Declaramos las variables que nos permitirán contar cuantas operaciones se realizan y cuantas\n",
        "# de ellas terminan generando numeros enteros\n",
        "\n",
        "iteracionesTotales = 0\n",
        "iteracionesValidas = 0\n",
        "\n",
        "#Realizamos iteraciones entre números y operaciones\n",
        "for num1 in numeros:\n",
        "    \n",
        "    for op1 in operaciones:\n",
        "        \n",
        "        for num2 in numeros:\n",
        "            \n",
        "            for op2 in operaciones:\n",
        "  \n",
        "                for num3 in numeros:\n",
        "       \n",
        "                    for op3 in operaciones:\n",
        "               \n",
        "                        for num4 in numeros:\n",
        "                  \n",
        "                            for op4 in operaciones:\n",
        "                             \n",
        "                                for num5 in numeros:\n",
        "                                \n",
        "                                    #Hacemos un aumento del numero de iteraciones totales para contar\n",
        "                                    iteracionesTotales = iteracionesTotales + 1\n",
        "                                   \n",
        "                                    #Hacemos un try catch (estructura de control) para controlar las excepciones\n",
        "                                    # que se generen ya que si ocurren debe poder seguir funcionando los bucles\n",
        "                                    try:\n",
        "\n",
        "                                        #Guardamos el valor de la combinacion en un valor \n",
        "                                        combinacion = [num1,op1,num2,op2,num3,op3,num4,op4,num5]\n",
        "                                        valorObtenido = eval(''.join(combinacion))\n",
        "\n",
        "                                        #Si es la primera iteracion y el número de numeros coinciden ademas de ser un valor entero \n",
        "                                        # nos quedamos con esa expresión y el valor como máximo y mínimo\n",
        "                                        if (iteracionesValidas==0 and is_int(valorObtenido)):\n",
        "                                            minimo=valorObtenido\n",
        "                                            expresionMin = ''.join(combinacion)\n",
        "                                            maximo=valorObtenido\n",
        "                                            expresionMax = ''.join(combinacion)\n",
        "                                            iteracionesValidas=iteracionesValidas+1\n",
        "\n",
        "                                        #Si es otra de las iteraciones comprobamos si podemos actualizar o no los valores mínimos\n",
        "                                        # y máximos comprobando también que coincidan el numero de números y dígitos\n",
        "                                        else:\n",
        "                                            \n",
        "                                            #En caso de que el valor obtenido sea un número entero aumentamos el contador\n",
        "                                            # de operaciones válidas y después intentamos comprobar si podemos\n",
        "                                            # actualizar el mayor o el menor valor obtenido\n",
        "                                            if(is_int(valorObtenido)):\n",
        "\n",
        "\n",
        "                                                #Comprobamos ahora si hemos encontrado un valor mínimo o un valor máximo\n",
        "                                                if(minimo>valorObtenido):\n",
        "                                                    minimo = valorObtenido\n",
        "                                                    expresionMin = ''.join(combinacion)  \n",
        "                                                if(maximo<valorObtenido):\n",
        "                                                    expresionMax = ''.join(combinacion)  \n",
        "                                                    maximo = valorObtenido\n",
        "\n",
        "                                                #Aumentamos el número de iteraciones válidas\n",
        "                                                iteracionesValidas = iteracionesValidas + 1\n",
        "                                    #Si ocurre una excepción indicamos que el programa no se preocupe por ella\n",
        "                                    except:\n",
        "                                        pass\n",
        "\n",
        " #Aunque hemos comprobado que los resultados sean números enteros se han guardado como floantes por ello los convertimos a enteros\n",
        "# para imprimirlos después \n",
        "minimo = int(minimo)\n",
        "maximo = int(maximo)\n",
        "\n",
        "\n",
        "print(\"------------ALGORITMO MEDIANTE FUERZA BRUTA------------\")\n",
        "#Una vez acabamos imprimos la combinación que da el mínimo y el mayor valor posible\n",
        "print(\"El mayor valor obtenido es \",maximo, \" con la combinacion \", expresionMax )\n",
        "print(\"El minimo valor obtenido es \",minimo,\" con la combinacion \", expresionMin )\n",
        "\n",
        "#Imprimimos el numero total de iteraciones realizadas así como el de operaciones validas en la que se generan enteros\n",
        "print(\"\\nEl numero total de iteraciones realizadas es : \",iteracionesTotales,\" de ellas \", iteracionesValidas, \" generan numeros enteros\")"
      ],
      "execution_count": 0,
      "outputs": [
        {
          "output_type": "stream",
          "text": [
            "------------ALGORITMO MEDIANTE FUERZA BRUTA------------\n",
            "El mayor valor obtenido es  59049  con la combinacion  9*9*9*9*9\n",
            "El minimo valor obtenido es  -6560  con la combinacion  1-9*9*9*9\n",
            "\n",
            "El numero total de iteraciones realizadas es :  15116544  de ellas  7630270  generan numeros enteros\n"
          ],
          "name": "stdout"
        }
      ]
    },
    {
      "metadata": {
        "id": "3bcZK3TzRg6A",
        "colab_type": "text"
      },
      "cell_type": "markdown",
      "source": [
        "Ahora muestro el algoritmo por fuerza bruta pero con las restricciones"
      ]
    },
    {
      "metadata": {
        "id": "L9PMUPeWO_2C",
        "colab_type": "code",
        "outputId": "02a7a712-d4b8-4067-946b-f2f2bd52efc2",
        "colab": {
          "base_uri": "https://localhost:8080/",
          "height": 102
        }
      },
      "cell_type": "code",
      "source": [
        "########################## ALGORITMO DE FUERZA BRUTA CON RESTRICCIONES ###############################\n",
        "\n",
        "\n",
        "#Definimos esta función para comprobar si una variable es un número entero\n",
        "\n",
        "def is_int(val):\n",
        "    if type(val) == int:\n",
        "        return True\n",
        "    else:\n",
        "        if val.is_integer():\n",
        "            return True\n",
        "        else:\n",
        "            return False\n",
        "\n",
        "\n",
        "#Importamos las librerias para iterar con strings y para aplicar expresiones regulares\n",
        "import itertools\n",
        "import re\n",
        "\n",
        "\n",
        "# Guardamos las operaciones y los números que podemos utilizar y les hacemos una copia para cada bucle\n",
        "numeros = ['1', '2', '3', '4', '5', '6' , '7' , '8', '9']\n",
        "operaciones = ['+','-','*','/']\n",
        "\n",
        "\n",
        "#Declaramos las variables que nos permitirán contar cuantas operaciones se realizan y cuantas\n",
        "# de ellas terminan generando números enteros\n",
        "iteracionesTotales = 0\n",
        "iteracionesValidas = 0\n",
        "\n",
        "#Realizamos iteraciones entre números y operaciones pero evitando repetir números y operaciones\n",
        "\n",
        "for num1 in numeros:\n",
        "    \n",
        "    for op1 in operaciones:\n",
        "        \n",
        "        for num2 in [x for x in numeros if x not in [num1]]:\n",
        "            \n",
        "            for op2 in [x for x in operaciones if x not in [op1]]:\n",
        "  \n",
        "                for num3 in [x for x in numeros if x not in [num1,num2]]:\n",
        "       \n",
        "                    for op3 in [x for x in operaciones if x not in [op1,op2]]:\n",
        "               \n",
        "                        for num4 in [x for x in numeros if x not in [num1,num2,num3]]:\n",
        "                  \n",
        "                            for op4 in [x for x in operaciones if x not in [op1,op2,op3]]:\n",
        "                             \n",
        "                                for num5 in [x for x in numeros if x not in [num1,num2,num3,num4]]:\n",
        "                                \n",
        "                                   \n",
        "                                   \n",
        "                                    iteracionesTotales = iteracionesTotales+1\n",
        "                                    #Hacemos un try catch (estructura de control) para controlar las excepciones\n",
        "                                    # que se generen ya que si ocurren debe poder seguir funcionando los bucles\n",
        "                                    try:\n",
        "\n",
        "                                        #Guardamos el valor de la combinación en un valor \n",
        "                                        combinacion = [num1,op1,num2,op2,num3,op3,num4,op4,num5]\n",
        "                                        valorObtenido = eval(''.join(combinacion))\n",
        "\n",
        "                                        #Si es la primera iteración y el número de números coinciden además de ser un valor entero \n",
        "                                        # nos quedamos con esa expresión y el valor como máximo y mínimo\n",
        "                                        if (iteracionesValidas==0 and is_int(valorObtenido)):\n",
        "                                            minimo=valorObtenido\n",
        "                                            expresionMin = ''.join(combinacion)\n",
        "                                            maximo=valorObtenido\n",
        "                                            expresionMax = ''.join(combinacion)\n",
        "                                            iteracionesValidas=iteracionesValidas+1\n",
        "\n",
        "                                        #Si es otra de las iteraciones comprobamos si podemos actualizar o no los valores mínimos\n",
        "                                        # y máximos comprobando también que coincidan el número de números y dígitos\n",
        "                                        else:\n",
        "                                            \n",
        "                                            #En caso de que el valor obtenido sea un número entero aumentamos el contador\n",
        "                                            # de operaciones válidas y después intentamos comprobar si podemos\n",
        "                                            # actualizar el mayor o el menor valor obtenido\n",
        "                                            if(is_int(valorObtenido)):\n",
        "                                               \n",
        "                                            \n",
        "                                                #Comprobamos ahora si hemos encontrado un valor mínimo o un valor máximo\n",
        "                                                if(minimo>valorObtenido):\n",
        "                                                    minimo = valorObtenido\n",
        "                                                    expresionMin = ''.join(combinacion)  \n",
        "                                                if(maximo<valorObtenido):\n",
        "                                                    expresionMax = ''.join(combinacion)  \n",
        "                                                    maximo = valorObtenido\n",
        "\n",
        "                                                     \n",
        "                                                #Aumentamos el numero de iteraciones válidas\n",
        "                                                iteracionesValidas = iteracionesValidas + 1\n",
        "                                    #Si ocurre una excepcion indicamos que el programa no se preocupe por ella\n",
        "                                    except:\n",
        "                                        pass\n",
        "\n",
        " #Aunque hemos comprobado que los resultados sean números enteros se han guardado como floantes por ello los convertimos a enteros\n",
        "# para imprimirlos después \n",
        "minimo = int(minimo)\n",
        "maximo = int(maximo)\n",
        "\n",
        "print(\"------------ALGORITMO FUERZA BRUTA CON RESTRICCIONES------------\")\n",
        "\n",
        "#Una vez acabamos imprimos la combinación que da el mínimo y el mayor valor posible\n",
        "print(\"El mayor valor obtenido es \",maximo, \" con la combinacion \", expresionMax )\n",
        "print(\"El minimo valor obtenido es \",minimo,\" con la combinacion \", expresionMin )\n",
        "\n",
        "#Imprimimos el número total de iteraciones realizadas así como el de operaciones válidas en la que se generan enteros\n",
        "print(\"\\nEl numero total de iteraciones realizadas es : \",iteracionesTotales,\" de ellas \", iteracionesValidas, \" generan numeros enteros\")"
      ],
      "execution_count": 0,
      "outputs": [
        {
          "output_type": "stream",
          "text": [
            "------------ALGORITMO FUERZA BRUTA CON RESTRICCIONES------------\n",
            "El mayor valor obtenido es  77  con la combinacion  7+8*9-2/1\n",
            "El minimo valor obtenido es  -69  con la combinacion  1+4/2-8*9\n",
            "\n",
            "El numero total de iteraciones realizadas es :  362880  de ellas  90000  generan numeros enteros\n"
          ],
          "name": "stdout"
        }
      ]
    },
    {
      "metadata": {
        "id": "XL6uEhinLH6T",
        "colab_type": "text"
      },
      "cell_type": "markdown",
      "source": [
        "###Calcula la complejidad del algoritmo por fuerza bruta<br>\n",
        "###Respuesta<br>"
      ]
    },
    {
      "metadata": {
        "id": "RcgYgg_9S9bE",
        "colab_type": "text"
      },
      "cell_type": "markdown",
      "source": [
        "La complejidad del algoritmo es factorial."
      ]
    },
    {
      "metadata": {
        "id": "uggyVwZILiAo",
        "colab_type": "text"
      },
      "cell_type": "markdown",
      "source": [
        "###(*)Diseña un algoritmo que mejore la complejidad del algortimo por fuerza bruta. Argumenta porque crees que mejora el algoritmo por fuerza bruta\n",
        "###Respuesta"
      ]
    },
    {
      "metadata": {
        "id": "Cqwrk--XTHXB",
        "colab_type": "text"
      },
      "cell_type": "markdown",
      "source": [
        "No he podido desarrollar el algoritmo. He barajado algunas opciones para poder realizarlo.  Una de ellas es mediante un algoritmo de busqueda a través de un árbol de tal manera que en el primer nivel estén las posibilidades del primer número, en el segundo nivel las posibilidades del operador y asi sucesivamente. Asi podríamos hacer podas teniendo en cuenta criterios como que los números a tener en cuenta para encontrar el máximo deberían de usar la multiplicación y suma con cifras altas y dividir y restar con cifras bajas. Cómo estrategia de árbol y a efectos de evitar la búsqueda a ciegas, podría valorar la estrategía de Least Cost para  escoger nodos que se acerquen más la solcuión.<br>\n",
        "Entre las opciones n boarajadas tenemos a técnicas como divide y venceras ya que no aporta nada dividir el problema y tampoco las técnicas voraces por las características de los operadores.\n"
      ]
    },
    {
      "metadata": {
        "id": "ccwvhtfJLonf",
        "colab_type": "text"
      },
      "cell_type": "markdown",
      "source": [
        "###(*)Calcula la complejidad del algoritmo<br>\n",
        "###Respuesta<br>"
      ]
    },
    {
      "metadata": {
        "id": "pE1ahxJfSMSZ",
        "colab_type": "text"
      },
      "cell_type": "markdown",
      "source": [
        "Al no haber desarrollado el algoritmo no puede contestar a esta pregunta."
      ]
    },
    {
      "metadata": {
        "id": "KU_C8AKgLzjh",
        "colab_type": "text"
      },
      "cell_type": "markdown",
      "source": [
        "###Según el problema (y tenga sentido), diseña un juego de datos de entrada aleatorios<br>\n",
        "###Respuesta<br>"
      ]
    },
    {
      "metadata": {
        "id": "476XJFD0L22V",
        "colab_type": "code",
        "outputId": "3e3f29e0-4e7e-42f1-bf3a-03cc66ebabe8",
        "colab": {
          "base_uri": "https://localhost:8080/",
          "height": 34
        }
      },
      "cell_type": "code",
      "source": [
        "import random\n",
        "def unico(x,L):\n",
        "  esUnico=True\n",
        "  for i in range(len(L)):\n",
        "    if x==L[i]:\n",
        "      esUnico=False\n",
        "      break\n",
        "  return esUnico\n",
        "L=[]\n",
        "j=0\n",
        "while j<5:\n",
        "  x=random.randint(1,9)\n",
        "  if unico(x,L):\n",
        "    L.append(x)\n",
        "    j+=1\n",
        "print(L)"
      ],
      "execution_count": 0,
      "outputs": [
        {
          "output_type": "stream",
          "text": [
            "[3, 6, 2, 5, 4]\n"
          ],
          "name": "stdout"
        }
      ]
    },
    {
      "metadata": {
        "id": "-XHSVF_HL7QA",
        "colab_type": "text"
      },
      "cell_type": "markdown",
      "source": [
        "###Aplica el algoritmo al juego de datos generado<br>\n",
        "###Respuesta<br>"
      ]
    },
    {
      "metadata": {
        "id": "Z7SqDabxuzPw",
        "colab_type": "code",
        "outputId": "744913f3-8aee-4a1c-94cb-a916117e4906",
        "colab": {
          "base_uri": "https://localhost:8080/",
          "height": 102
        }
      },
      "cell_type": "code",
      "source": [
        "\n",
        "\n",
        "def is_int(val):\n",
        "    if type(val) == int:\n",
        "        return True\n",
        "    else:\n",
        "        if val.is_integer():\n",
        "            return True\n",
        "        else:\n",
        "            return False\n",
        "\n",
        "\n",
        "\n",
        "import itertools\n",
        "import re\n",
        "\n",
        "\n",
        "\n",
        "numeros = ['3', '6', '2', '5', '4']\n",
        "operaciones = ['+','-','*','/']\n",
        "\n",
        "\n",
        "\n",
        "iteracionesTotales = 0\n",
        "iteracionesValidas = 0\n",
        "\n",
        "for num1 in numeros:\n",
        "    \n",
        "    for op1 in operaciones:\n",
        "        \n",
        "        for num2 in [x for x in numeros if x not in [num1]]:\n",
        "            \n",
        "            for op2 in [x for x in operaciones if x not in [op1]]:\n",
        "  \n",
        "                for num3 in [x for x in numeros if x not in [num1,num2]]:\n",
        "       \n",
        "                    for op3 in [x for x in operaciones if x not in [op1,op2]]:\n",
        "               \n",
        "                        for num4 in [x for x in numeros if x not in [num1,num2,num3]]:\n",
        "                  \n",
        "                            for op4 in [x for x in operaciones if x not in [op1,op2,op3]]:\n",
        "                             \n",
        "                                for num5 in [x for x in numeros if x not in [num1,num2,num3,num4]]:\n",
        "                                \n",
        "                                   \n",
        "                                    \n",
        "                                   \n",
        "                                    iteracionesTotales = iteracionesTotales+1\n",
        "                                   \n",
        "                                    try:\n",
        "\n",
        "                                       \n",
        "                                        combinacion = [num1,op1,num2,op2,num3,op3,num4,op4,num5]\n",
        "                                        valorObtenido = eval(''.join(combinacion))\n",
        "\n",
        "                                      \n",
        "                                        if (iteracionesValidas==0 and is_int(valorObtenido)):\n",
        "                                            minimo=valorObtenido\n",
        "                                            expresionMin = ''.join(combinacion)\n",
        "                                            maximo=valorObtenido\n",
        "                                            expresionMax = ''.join(combinacion)\n",
        "                                            iteracionesValidas=iteracionesValidas+1\n",
        "\n",
        "                                        \n",
        "                                        else:\n",
        "                                            \n",
        "                                            \n",
        "                                            if(is_int(valorObtenido)):\n",
        "                                               \n",
        "                                            \n",
        "                                             \n",
        "                                                if(minimo>valorObtenido):\n",
        "                                                    minimo = valorObtenido\n",
        "                                                    expresionMin = ''.join(combinacion)  \n",
        "                                                if(maximo<valorObtenido):\n",
        "                                                    expresionMax = ''.join(combinacion)  \n",
        "                                                    maximo = valorObtenido\n",
        "\n",
        "                                                     \n",
        "                                               \n",
        "                                                iteracionesValidas = iteracionesValidas + 1\n",
        "                                    \n",
        "                                    except:\n",
        "                                        pass\n",
        "\n",
        "  \n",
        "minimo = int(minimo)\n",
        "maximo = int(maximo)\n",
        "\n",
        "print(\"------------ALGORITMO CON NÚMEROS ALEATORIOS------------\")\n",
        "\n",
        "#Una vez acabamos imprimos la combinación que da el mínimo y el mayor valor posible\n",
        "print(\"El mayor valor obtenido es \",maximo, \" con la combinacion \", expresionMax )\n",
        "print(\"El minimo valor obtenido es \",minimo,\" con la combinacion \", expresionMin )\n",
        "\n",
        "\n",
        "print(\"\\nEl numero total de iteraciones realizadas es : \",iteracionesTotales,\" de ellas \", iteracionesValidas, \" generan numeros enteros\")"
      ],
      "execution_count": 0,
      "outputs": [
        {
          "output_type": "stream",
          "text": [
            "------------ALGORITMO CON NÚMEROS ALEATORIOS------------\n",
            "El mayor valor obtenido es  31  con la combinacion  3+6*5-4/2\n",
            "El minimo valor obtenido es  -25  con la combinacion  3+4/2-6*5\n",
            "\n",
            "El numero total de iteraciones realizadas es :  2880  de ellas  744  generan numeros enteros\n"
          ],
          "name": "stdout"
        }
      ]
    },
    {
      "metadata": {
        "id": "IDMOpprLeFfS",
        "colab_type": "text"
      },
      "cell_type": "markdown",
      "source": [
        "###Enumera las referencias que has utilizado(si ha sido necesario) para llevar a cabo el trabajo<br>\n",
        "###Respuesta<br>"
      ]
    },
    {
      "metadata": {
        "id": "4LeLdpcKeMwC",
        "colab_type": "text"
      },
      "cell_type": "markdown",
      "source": [
        "Se ha consultado bibliográfía facilitada en clase. En general para revisar aspectos de programación:<br>\n",
        "https://docs.python.org/2/library/re.html<br>\n",
        "https://python-para-impacientes.blogspot.com/2015/08/bucles-eficientes-con-itertools.html<br>\n",
        "http://docs.python.org.ar/tutorial/3/errors.html <br>\n",
        "https://www.programiz.com/python-programming/list-comprehension<br>\n",
        "https://blog.carreralinux.com.ar/2017/06/try-y-except-en-python-excepciones/<br>\n",
        "https://es.stackoverflow.com/questions/124063/crear-una-lista-de-numeros-aleatorios-en-python<br>\n",
        "Para técnicas de algoritmia::<br>\n",
        "http://materias.fi.uba.ar/7114/Docs/ApunteHeuristicas.pdf<br>\n",
        "R.C.T. Lee, S.S. Tseng, R.C. Chang y Y.T. Sahi (2007) Introducción al diseño y análisis de algoritmos.Mexico. <br>\n",
        "MGraw-Hill Intermericana.\n"
      ]
    },
    {
      "metadata": {
        "id": "Ycel2b1gMGL5",
        "colab_type": "text"
      },
      "cell_type": "markdown",
      "source": [
        "###Describe brevemente las lineas de como crees que es posible avanzar en el estudio del problema. Ten en cuenta incluso posibles variaciones del problema y/o variaciones al alza del tamaño<br>\n",
        "###Respuesta"
      ]
    },
    {
      "metadata": {
        "id": "dJqOwtF3N5aN",
        "colab_type": "text"
      },
      "cell_type": "markdown",
      "source": [
        "Para avanzar en el estudio del problema y teniendo en cuenta que para \"n\"  muy grandes los tiempos de ejecución serían inabordables, valoraría métodos heurísticos y metaheurísticos.<br> Cómo heurística me inclino más por técnicas como el Simulated Annealing ya que diversifica al principio la búsqueda y posteriormente intensifica, dada las características del problema entiendo mejores resultados de esta manera.<br>\n",
        "Como metaherurística valoraría profundizar en algoritmos genéticos debido a la mejora que pueda tener  combinar operaciones de cruce y mutación a diferencia de los evolutivos."
      ]
    }
  ]
}